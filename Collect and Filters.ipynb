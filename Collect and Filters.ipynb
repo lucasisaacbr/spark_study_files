{
 "cells": [
  {
   "cell_type": "code",
   "execution_count": 1,
   "metadata": {},
   "outputs": [],
   "source": [
    "from pyspark.sql import SparkSession"
   ]
  },
  {
   "cell_type": "code",
   "execution_count": 2,
   "metadata": {},
   "outputs": [],
   "source": [
    "spark = SparkSession.builder.appName('opts').getOrCreate()"
   ]
  },
  {
   "cell_type": "code",
   "execution_count": 4,
   "metadata": {},
   "outputs": [],
   "source": [
    "df = spark.read.csv('files/appl_stock.csv', inferSchema=True, header=True)"
   ]
  },
  {
   "cell_type": "code",
   "execution_count": 5,
   "metadata": {},
   "outputs": [
    {
     "name": "stdout",
     "output_type": "stream",
     "text": [
      "root\n",
      " |-- Date: timestamp (nullable = true)\n",
      " |-- Open: double (nullable = true)\n",
      " |-- High: double (nullable = true)\n",
      " |-- Low: double (nullable = true)\n",
      " |-- Close: double (nullable = true)\n",
      " |-- Volume: integer (nullable = true)\n",
      " |-- Adj Close: double (nullable = true)\n",
      "\n"
     ]
    }
   ],
   "source": [
    "# Investigate the type of data into the columns\n",
    "df.printSchema()"
   ]
  },
  {
   "cell_type": "code",
   "execution_count": 11,
   "metadata": {},
   "outputs": [
    {
     "name": "stdout",
     "output_type": "stream",
     "text": [
      "+------------------+\n",
      "|              Open|\n",
      "+------------------+\n",
      "|        499.529991|\n",
      "|        504.659988|\n",
      "|        491.500008|\n",
      "|        503.109993|\n",
      "|506.88001299999996|\n",
      "+------------------+\n",
      "\n"
     ]
    }
   ],
   "source": [
    "# Difference SQL to DF methods step by step.\n",
    "df.createOrReplaceTempView('stock')\n",
    "\n",
    "results = spark.sql('SELECT Open FROM stock WHERE CLOSE > 500 LIMIT 5')\n",
    "\n",
    "results.show()"
   ]
  },
  {
   "cell_type": "code",
   "execution_count": 14,
   "metadata": {},
   "outputs": [
    {
     "name": "stdout",
     "output_type": "stream",
     "text": [
      "+------------------+\n",
      "|              Open|\n",
      "+------------------+\n",
      "|        499.529991|\n",
      "|        504.659988|\n",
      "|        491.500008|\n",
      "|        503.109993|\n",
      "|506.88001299999996|\n",
      "+------------------+\n",
      "\n"
     ]
    }
   ],
   "source": [
    "# SPARK filter\n",
    "df.select('Open').filter('Close > 500').limit(5).show()"
   ]
  },
  {
   "cell_type": "code",
   "execution_count": 27,
   "metadata": {},
   "outputs": [
    {
     "name": "stdout",
     "output_type": "stream",
     "text": [
      "+-----------------+\n",
      "|             Open|\n",
      "+-----------------+\n",
      "|       513.079994|\n",
      "|       515.079987|\n",
      "|519.6699980000001|\n",
      "|       521.309982|\n",
      "|       527.960014|\n",
      "+-----------------+\n",
      "\n"
     ]
    }
   ],
   "source": [
    "# SPARK filter with conditions. Conditions must be in parentheses, logic operator are   |(0r)  &(and)  ~(not)\n",
    "\n",
    "df.select(df['Open']).filter( (df['Close'] > 500) & (df['Open'] > 507) ).limit(5).show()"
   ]
  },
  {
   "cell_type": "code",
   "execution_count": 28,
   "metadata": {},
   "outputs": [],
   "source": [
    "# Instead of show the values, we can collect them.\n",
    "\n",
    "result = df.select(df['*']).filter( (df['Close'] > 500) & (df['Open'] > 507) ).limit(5).collect()"
   ]
  },
  {
   "cell_type": "code",
   "execution_count": 29,
   "metadata": {},
   "outputs": [],
   "source": [
    "# choose and row in the list\n",
    "row = result[0]"
   ]
  },
  {
   "cell_type": "code",
   "execution_count": 30,
   "metadata": {},
   "outputs": [
    {
     "data": {
      "text/plain": [
       "{'Date': datetime.datetime(2012, 2, 22, 0, 0),\n",
       " 'Open': 513.079994,\n",
       " 'High': 515.489983,\n",
       " 'Low': 509.07002300000005,\n",
       " 'Close': 513.039993,\n",
       " 'Volume': 120825600,\n",
       " 'Adj Close': 66.46923100000001}"
      ]
     },
     "execution_count": 30,
     "metadata": {},
     "output_type": "execute_result"
    }
   ],
   "source": [
    "# Parse to dict\n",
    "row.asDict()"
   ]
  },
  {
   "cell_type": "code",
   "execution_count": 32,
   "metadata": {},
   "outputs": [
    {
     "data": {
      "text/plain": [
       "120825600"
      ]
     },
     "execution_count": 32,
     "metadata": {},
     "output_type": "execute_result"
    }
   ],
   "source": [
    "# Access the Values\n",
    "row.asDict()['Volume']"
   ]
  },
  {
   "cell_type": "code",
   "execution_count": null,
   "metadata": {},
   "outputs": [],
   "source": []
  }
 ],
 "metadata": {
  "kernelspec": {
   "display_name": "Python 3",
   "language": "python",
   "name": "python3"
  },
  "language_info": {
   "codemirror_mode": {
    "name": "ipython",
    "version": 3
   },
   "file_extension": ".py",
   "mimetype": "text/x-python",
   "name": "python",
   "nbconvert_exporter": "python",
   "pygments_lexer": "ipython3",
   "version": "3.6.5"
  }
 },
 "nbformat": 4,
 "nbformat_minor": 2
}
